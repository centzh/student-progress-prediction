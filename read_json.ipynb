{
 "cells": [
  {
   "cell_type": "code",
   "execution_count": 1,
   "id": "bcc9cae8",
   "metadata": {},
   "outputs": [],
   "source": [
    "import json\n",
    "import ijson\n",
    "import pandas as pd\n",
    "from collections import defaultdict\n",
    "\n",
    "\n",
    "data_path = 'data/events.json'\n",
    "\n",
    "# Create an empty list to store the filtered entries\n",
    "filtered_entries = []\n",
    "\n",
    "with open(data_path, 'r') as f:\n",
    "    for obj in ijson.items(f, 'item'):\n",
    "        if 'event_name' in obj and obj['event_name'] in ['problem_passed', 'problem_run']:\n",
    "            filtered_entries.append(obj)\n",
    "\n",
    "# Convert the filtered entries into a DataFrame\n",
    "df = pd.DataFrame(filtered_entries)"
   ]
  },
  {
   "cell_type": "code",
   "execution_count": 2,
   "id": "d7cf643f",
   "metadata": {},
   "outputs": [
    {
     "name": "stdout",
     "output_type": "stream",
     "text": [
      "                                          event_data               challenge  \\\n",
      "0  {\"problem_status\":null,\"url\":\"https:\\/\\/grokle...  challenge-newbies-2018   \n",
      "1  {\"problem_status\":0,\"url\":\"https:\\/\\/groklearn...  challenge-newbies-2018   \n",
      "2  {\"problem_status\":null,\"url\":\"https:\\/\\/grokle...  challenge-newbies-2018   \n",
      "3  {\"problem_status\":1,\"url\":\"https:\\/\\/groklearn...  challenge-newbies-2018   \n",
      "4  {\"problem_status\":1,\"url\":\"https:\\/\\/groklearn...  challenge-newbies-2018   \n",
      "\n",
      "  problem  \n",
      "0    w1p2  \n",
      "1    w1p2  \n",
      "2    w1p2  \n",
      "3    w1p2  \n",
      "4    w1p2  \n"
     ]
    }
   ],
   "source": [
    "import json\n",
    "import re\n",
    "\n",
    "# Function to extract challenge and problem from the JSON string\n",
    "def extract_challenge_problem(event_data_str):\n",
    "    try:\n",
    "        event_data = json.loads(event_data_str)\n",
    "        url = event_data.get(\"url\", \"\")\n",
    "        # Extract using regex\n",
    "        challenge_match = re.search(r'learn\\/([^\\/]+)', url)\n",
    "        problem_match = re.search(r'learn\\/[^\\/]+\\/([^\\/]+)', url)\n",
    "        \n",
    "        challenge = challenge_match.group(1) if challenge_match else None\n",
    "        problem = problem_match.group(1) if problem_match else None\n",
    "        \n",
    "        return challenge, problem\n",
    "    except (json.JSONDecodeError, AttributeError):\n",
    "        return None, None\n",
    "\n",
    "# Apply to the dataframe\n",
    "df['challenge'], df['problem'] = zip(*df['event_data'].apply(extract_challenge_problem))\n",
    "\n",
    "# View the updated dataframe\n",
    "print(df[['event_data', 'challenge', 'problem']].head())\n",
    "\n",
    "\n",
    "# Save the DataFrame to a CSV file\n",
    "df.to_csv('data/processed_data.csv', index=False)\n"
   ]
  },
  {
   "cell_type": "code",
   "execution_count": null,
   "id": "c3950325",
   "metadata": {},
   "outputs": [],
   "source": []
  }
 ],
 "metadata": {
  "kernelspec": {
   "display_name": "Python 3",
   "language": "python",
   "name": "python3"
  },
  "language_info": {
   "codemirror_mode": {
    "name": "ipython",
    "version": 3
   },
   "file_extension": ".py",
   "mimetype": "text/x-python",
   "name": "python",
   "nbconvert_exporter": "python",
   "pygments_lexer": "ipython3",
   "version": "3.12.5"
  }
 },
 "nbformat": 4,
 "nbformat_minor": 5
}
