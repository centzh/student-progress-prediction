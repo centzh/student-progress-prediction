{
 "cells": [
  {
   "cell_type": "code",
   "execution_count": 5,
   "id": "bcc9cae8",
   "metadata": {},
   "outputs": [],
   "source": [
    "import ijson\n",
    "import pandas as pd\n",
    "from collections import defaultdict\n",
    "\n",
    "def load_filtered_events(data_path, event_names=['problem_passed', 'problem_run', 'slide_steps_complete']):\n",
    "    \"\"\"\n",
    "    Loads and filters events from a JSON file using streaming parser.\n",
    "\n",
    "    Parameters:\n",
    "    - data_path (str): Path to the JSON file (expects array of JSON objects)\n",
    "    - event_names (list): List of event names to include (default: ['problem_passed', 'problem_run'])\n",
    "\n",
    "    Returns:\n",
    "    - pd.DataFrame: Filtered DataFrame with matching events\n",
    "    \"\"\"\n",
    "    filtered_entries = []\n",
    "\n",
    "    with open(data_path, 'r') as f:\n",
    "        for obj in ijson.items(f, 'item'):\n",
    "            if 'event_name' in obj and obj['event_name'] in event_names:\n",
    "                filtered_entries.append(obj)\n",
    "\n",
    "    return pd.DataFrame(filtered_entries)"
   ]
  },
  {
   "cell_type": "code",
   "execution_count": 6,
   "id": "8b941a00",
   "metadata": {},
   "outputs": [],
   "source": [
    "df = load_filtered_events('data/events.json')"
   ]
  },
  {
   "cell_type": "code",
   "execution_count": 7,
   "id": "d37c1180",
   "metadata": {},
   "outputs": [],
   "source": [
    "import pandas as pd\n",
    "import json\n",
    "\n",
    "def label_slide_types(df, problems_json_path):\n",
    "    \"\"\"\n",
    "    Adds a 'slide_type' column to the DataFrame, indicating whether the (challenge, problem, slide)\n",
    "    corresponds to a problem_slide or an event_slide.\n",
    "\n",
    "    Parameters:\n",
    "    - df: DataFrame containing at least 'challenge', 'problem', 'slide'\n",
    "    - problems_json_path: Path to the JSON file with problem slide metadata\n",
    "\n",
    "    Returns:\n",
    "    - The input DataFrame with an added 'slide_type' column\n",
    "    \"\"\"\n",
    "    \n",
    "    # Load the problem metadata\n",
    "    with open(problems_json_path, \"r\") as f:\n",
    "        problems = json.load(f)\n",
    "    \n",
    "    problems_df = pd.DataFrame(problems)\n",
    "\n",
    "    # Build a set of (course_slug, coursemodule_slug, slide_no)\n",
    "    problem_slide_keys = set(\n",
    "        zip(\n",
    "            problems_df[\"course_slug\"],\n",
    "            problems_df[\"coursemodule_slug\"],\n",
    "            problems_df[\"slide_no\"]\n",
    "        )\n",
    "    )\n",
    "\n",
    "    # Ensure slide is treated as integer-compatible (nullable Int)\n",
    "    df[\"slide\"] = df[\"slide\"].astype(\"Int64\")\n",
    "\n",
    "    # Define function for row-wise check\n",
    "    def get_slide_type(row):\n",
    "        key = (row[\"challenge\"], row[\"problem\"], row[\"slide\"])\n",
    "        return \"problem_slide\" if key in problem_slide_keys else \"event_slide\"\n",
    "\n",
    "    # Apply and return\n",
    "    df[\"slide_type\"] = df.apply(get_slide_type, axis=1)\n",
    "    return df\n"
   ]
  },
  {
   "cell_type": "code",
   "execution_count": 8,
   "id": "d7cf643f",
   "metadata": {},
   "outputs": [],
   "source": [
    "import json\n",
    "import re\n",
    "\n",
    "# Function to extract challenge and problem from the JSON string\n",
    "def extract_challenge_problem(event_data_str):\n",
    "    try:\n",
    "        event_data = json.loads(event_data_str)\n",
    "        url = event_data.get(\"url\", \"\")\n",
    "        # Extract using regex\n",
    "        challenge_match = re.search(r'learn\\/([^\\/]+)', url)\n",
    "        problem_match = re.search(r'learn\\/[^\\/]+\\/([^\\/]+)', url)\n",
    "        slide_match = re.search(r'learn\\/[^\\/]+\\/[^\\/]+\\/([^\\/]+)', url)\n",
    "\n",
    "\n",
    "        challenge = challenge_match.group(1) if challenge_match else None\n",
    "        problem = problem_match.group(1) if problem_match else None\n",
    "        slide = slide_match.group(1) if slide_match else None\n",
    "        \n",
    "        return challenge, problem, slide\n",
    "    except (json.JSONDecodeError, AttributeError):\n",
    "        return None, None, None\n",
    "\n",
    "\n",
    " "
   ]
  },
  {
   "cell_type": "code",
   "execution_count": 9,
   "id": "d9684bbd",
   "metadata": {},
   "outputs": [],
   "source": [
    "# Apply to the dataframe\n",
    "df['challenge'], df['problem'], df['slide'] = zip(*df['event_data'].apply(extract_challenge_problem))"
   ]
  },
  {
   "cell_type": "code",
   "execution_count": 10,
   "id": "80afef6f",
   "metadata": {},
   "outputs": [],
   "source": [
    "df = label_slide_types(df, \"data/problems.json\")"
   ]
  },
  {
   "cell_type": "code",
   "execution_count": 11,
   "id": "8d68e610",
   "metadata": {},
   "outputs": [],
   "source": [
    "df.to_csv(\"data/processed_data.csv\")"
   ]
  }
 ],
 "metadata": {
  "kernelspec": {
   "display_name": "Python 3",
   "language": "python",
   "name": "python3"
  },
  "language_info": {
   "codemirror_mode": {
    "name": "ipython",
    "version": 3
   },
   "file_extension": ".py",
   "mimetype": "text/x-python",
   "name": "python",
   "nbconvert_exporter": "python",
   "pygments_lexer": "ipython3",
   "version": "3.12.5"
  }
 },
 "nbformat": 4,
 "nbformat_minor": 5
}
