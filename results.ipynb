{
 "cells": [
  {
   "cell_type": "code",
   "execution_count": 31,
   "id": "4f5d5a35",
   "metadata": {},
   "outputs": [],
   "source": [
    "import pandas as pd\n",
    "import numpy as np"
   ]
  },
  {
   "cell_type": "code",
   "execution_count": 45,
   "id": "2f245e67",
   "metadata": {},
   "outputs": [],
   "source": [
    "df = pd.read_csv('data/processed_data.csv')"
   ]
  },
  {
   "cell_type": "code",
   "execution_count": 46,
   "id": "a8fd23c0",
   "metadata": {},
   "outputs": [
    {
     "data": {
      "text/plain": [
       "np.int64(1532680322)"
      ]
     },
     "execution_count": 46,
     "metadata": {},
     "output_type": "execute_result"
    }
   ],
   "source": [
    "df[\"created_at\"][0]"
   ]
  },
  {
   "cell_type": "code",
   "execution_count": 33,
   "id": "a1cf317e",
   "metadata": {},
   "outputs": [
    {
     "name": "stdout",
     "output_type": "stream",
     "text": [
      "['challenge-newbies-2018' 'challenge-beginners-2018'\n",
      " 'challenge-intermediate-2018' 'challenge-advanced-2018'\n",
      " 'challenge-beginners-blockly-2018']\n"
     ]
    }
   ],
   "source": [
    "challenges = pd.unique(df[\"challenge\"])\n",
    "print(challenges)"
   ]
  },
  {
   "cell_type": "code",
   "execution_count": 49,
   "id": "c7709c3e",
   "metadata": {},
   "outputs": [
    {
     "name": "stdout",
     "output_type": "stream",
     "text": [
      "                          challenge  unique_users  ran_w5p1  ran_w5p2  \\\n",
      "0            challenge-newbies-2018          3976       542       450   \n",
      "1          challenge-beginners-2018          8085      2946      2484   \n",
      "2       challenge-intermediate-2018          4868      1771      1592   \n",
      "3           challenge-advanced-2018          1326         0         0   \n",
      "4  challenge-beginners-blockly-2018          2521       290       194   \n",
      "\n",
      "   pct_ran_w5p1  pct_ran_w5p2_of_w5p1  \n",
      "0         13.63                 83.03  \n",
      "1         36.44                 84.32  \n",
      "2         36.38                 89.89  \n",
      "3          0.00                   NaN  \n",
      "4         11.50                 66.90  \n"
     ]
    }
   ],
   "source": [
    "# Get list of challenges\n",
    "challenges = pd.unique(df[\"challenge\"])\n",
    "\n",
    "# Set up a results list to collect summary rows\n",
    "results = []\n",
    "\n",
    "for challenge in challenges:\n",
    "    # Filter all rows for this challenge\n",
    "    df_chal = df[df[\"challenge\"] == challenge]\n",
    "\n",
    "    # All unique users in this challenge\n",
    "    all_users = set(df_chal[\"user_id\"].unique())\n",
    "\n",
    "    # Users who ran problem w5p1 in this challenge\n",
    "    ran_w5p1_users = set(\n",
    "        df_chal[\n",
    "            (df_chal[\"event_name\"] == \"problem_run\") & \n",
    "            (df_chal[\"problem\"] == \"w5p1\")\n",
    "        ][\"user_id\"].unique()\n",
    "    )\n",
    "\n",
    "    # Users who ran problem w5p2 in this challenge\n",
    "    ran_w5p2_users = set(\n",
    "        df_chal[\n",
    "            (df_chal[\"event_name\"] == \"problem_run\") & \n",
    "            (df_chal[\"problem\"] == \"w5p2\")\n",
    "        ][\"user_id\"].unique()\n",
    "    )\n",
    "\n",
    "    # Append results\n",
    "    results.append({\n",
    "        \"challenge\": challenge,\n",
    "        \"unique_users\": len(all_users),\n",
    "        \"ran_w5p1\": len(ran_w5p1_users),\n",
    "        \"ran_w5p2\": len(ran_w5p2_users)\n",
    "    })\n",
    "\n",
    "# Convert to DataFrame for pretty output\n",
    "summary_df = pd.DataFrame(results)\n",
    "\n",
    "summary_df[\"pct_ran_w5p1\"] = (summary_df[\"ran_w5p1\"] / summary_df[\"unique_users\"]) * 100\n",
    "summary_df[\"pct_ran_w5p2_of_w5p1\"] = (summary_df[\"ran_w5p2\"] / summary_df[\"ran_w5p1\"]) * 100\n",
    "\n",
    "# Round for readability\n",
    "summary_df = summary_df.round({\n",
    "    \"pct_ran_w5p1\": 2,\n",
    "    \"pct_ran_w5p2_of_w5p1\": 2\n",
    "})\n",
    "\n",
    "# Print the summary\n",
    "print(summary_df)\n"
   ]
  },
  {
   "cell_type": "code",
   "execution_count": 43,
   "id": "5495a811",
   "metadata": {},
   "outputs": [
    {
     "name": "stdout",
     "output_type": "stream",
     "text": [
      "{\"problem_status\":null,\"url\":\"https:\\/\\/groklearning.com\\/learn\\/challenge-newbies-2018\\/w1p2\\/5\\/\",\"problem_id\":5018}\n"
     ]
    }
   ],
   "source": [
    "print(df[\"event_data\"][0])"
   ]
  },
  {
   "cell_type": "code",
   "execution_count": 47,
   "id": "630fb836",
   "metadata": {},
   "outputs": [
    {
     "name": "stdout",
     "output_type": "stream",
     "text": [
      "         event_name  created_at                           user_id  \\\n",
      "277242  problem_run  1533034393  7f11d5562c25a3b883771942dc12b484   \n",
      "277312  problem_run  1533034472  7f11d5562c25a3b883771942dc12b484   \n",
      "546694  problem_run  1533274731  2b38c7bc12fe9895058b6003d6cdf54d   \n",
      "546707  problem_run  1533274748  2b38c7bc12fe9895058b6003d6cdf54d   \n",
      "546724  problem_run  1533274765  2b38c7bc12fe9895058b6003d6cdf54d   \n",
      "\n",
      "                                               event_data condition  \\\n",
      "277242  {\"problem_status\":null,\"url\":\"https:\\/\\/grokle...  everyone   \n",
      "277312  {\"problem_status\":null,\"url\":\"https:\\/\\/grokle...  everyone   \n",
      "546694  {\"problem_status\":null,\"url\":\"https:\\/\\/grokle...  everyone   \n",
      "546707  {\"problem_status\":null,\"url\":\"https:\\/\\/grokle...  everyone   \n",
      "546724  {\"problem_status\":null,\"url\":\"https:\\/\\/grokle...  everyone   \n",
      "\n",
      "                          challenge problem  \n",
      "277242     challenge-beginners-2018    w5p2  \n",
      "277312     challenge-beginners-2018    w5p2  \n",
      "546694  challenge-intermediate-2018    w5p1  \n",
      "546707  challenge-intermediate-2018    w5p1  \n",
      "546724  challenge-intermediate-2018    w5p1  \n",
      "Average time difference (seconds): 21.59\n",
      "Standard deviation (seconds): 35.51\n"
     ]
    }
   ],
   "source": [
    "import pandas as pd\n",
    "\n",
    "# Ensure 'created_at' is in datetime format\n",
    "# df[\"created_at\"] = pd.to_datetime(df[\"created_at\"])\n",
    "\n",
    "# Filter to relevant problem_run events for w5p1 and w5p2\n",
    "df_runs = df[\n",
    "    (df[\"event_name\"] == \"problem_run\") &\n",
    "    (df[\"problem\"].isin([\"w5p1\", \"w5p2\"]))\n",
    "]\n",
    "\n",
    "print(df_runs.head())\n",
    "\n",
    "# Sort and get first run time for each user and problem\n",
    "first_runs = (\n",
    "    df_runs.sort_values(\"created_at\")\n",
    "           .groupby([\"user_id\", \"problem\"])[\"created_at\"]\n",
    "           .first()\n",
    "           .unstack()\n",
    ")\n",
    "\n",
    "# Drop users who didn't run both problems\n",
    "first_runs = first_runs.dropna(subset=[\"w5p1\", \"w5p2\"])\n",
    "\n",
    "# Compute time difference in seconds\n",
    "first_runs[\"diff_seconds\"] = (first_runs[\"w5p2\"] - first_runs[\"w5p1\"])\n",
    "\n",
    "# Get average and standard deviation\n",
    "average_diff = first_runs[\"diff_seconds\"].mean()\n",
    "std_diff = first_runs[\"diff_seconds\"].std()\n",
    "\n",
    "# Print results\n",
    "print(f\"Average time difference (seconds): {average_diff/3600:.2f}\")\n",
    "print(f\"Standard deviation (seconds): {std_diff/3600:.2f}\")\n"
   ]
  },
  {
   "cell_type": "code",
   "execution_count": null,
   "id": "af31ba0d",
   "metadata": {},
   "outputs": [],
   "source": []
  }
 ],
 "metadata": {
  "kernelspec": {
   "display_name": "Python 3",
   "language": "python",
   "name": "python3"
  },
  "language_info": {
   "codemirror_mode": {
    "name": "ipython",
    "version": 3
   },
   "file_extension": ".py",
   "mimetype": "text/x-python",
   "name": "python",
   "nbconvert_exporter": "python",
   "pygments_lexer": "ipython3",
   "version": "3.12.5"
  }
 },
 "nbformat": 4,
 "nbformat_minor": 5
}
